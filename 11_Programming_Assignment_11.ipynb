{
 "cells": [
  {
   "cell_type": "markdown",
   "metadata": {},
   "source": [
    "**1. Write a Python program to find words which are greater than given length k ?**"
   ]
  },
  {
   "cell_type": "code",
   "execution_count": 14,
   "metadata": {},
   "outputs": [
    {
     "name": "stdout",
     "output_type": "stream",
     "text": [
      "Enter the string: Don’t let yesterday take up too much of today.\n",
      "Enter the length of the string: 3\n",
      "Don’t,yesterday,take,much,today.\n"
     ]
    }
   ],
   "source": [
    "\n",
    "input_string = input(\"Enter the string: \")\n",
    "string_length = int(input('Enter the length of the string: '))\n",
    "output_string = []\n",
    "for string in input_string.split(\" \"):\n",
    "    if len(string) > string_length:\n",
    "        output_string.append(string)\n",
    "print(','.join(output_string))\n"
   ]
  },
  {
   "cell_type": "markdown",
   "metadata": {},
   "source": [
    "**2. Write a Python program for removing i-th character from a string ?**"
   ]
  },
  {
   "cell_type": "code",
   "execution_count": 4,
   "metadata": {},
   "outputs": [
    {
     "name": "stdout",
     "output_type": "stream",
     "text": [
      "enter the string: ineuron\n",
      "enter the ith Character: 2\n",
      "ninuroninuroninuron\n"
     ]
    }
   ],
   "source": [
    "\n",
    "input_string = input(\"Enter the String: \")\n",
    "print(f'enter the string: {input_string}')\n",
    "input_char_num = int(input(\"Enter the ith Character: \"))\n",
    "print(f'enter the ith Character: {input_char_num}')\n",
    "out_string = ''\n",
    "for i in range(len(input_string)):\n",
    "    if i != input_char_num:\n",
    "        output_string = output_string + input_string[i]\n",
    "print(output_string)\n"
   ]
  },
  {
   "cell_type": "markdown",
   "metadata": {},
   "source": [
    "**3. Write a Python program to split and join a string ?**"
   ]
  },
  {
   "cell_type": "code",
   "execution_count": 15,
   "metadata": {},
   "outputs": [
    {
     "name": "stdout",
     "output_type": "stream",
     "text": [
      "Enter the string: Don’t let yesterday take up too much of today.\n",
      "Split String: ['Don’t', 'let', 'yesterday', 'take', 'up', 'too', 'much', 'of', 'today.']\n",
      "Join String: Don’t let yesterday take up too much of today.\n"
     ]
    }
   ],
   "source": [
    "\n",
    "in_string = input('Enter the string: ')\n",
    "print(f\"Split String: {in_string.split(' ')}\")\n",
    "print(f\"Join String: {' '.join(in_string.split(' '))}\")"
   ]
  },
  {
   "cell_type": "markdown",
   "metadata": {},
   "source": [
    "**4. Write a Python to check if a given string is binary string or not ?**"
   ]
  },
  {
   "cell_type": "code",
   "execution_count": 16,
   "metadata": {},
   "outputs": [
    {
     "name": "stdout",
     "output_type": "stream",
     "text": [
      "Enter the string: 1209\n",
      "1209 is not a binart string\n",
      "Enter the string: 0101010\n",
      "0101010 is a binary string\n"
     ]
    }
   ],
   "source": [
    "def checkBinary():\n",
    "    input_string = input('Enter the string: ')\n",
    "    count = 0\n",
    "    for i in input_string:\n",
    "        if i in ['0','1']:\n",
    "            count = 1\n",
    "            continue\n",
    "        else:\n",
    "            count = 0\n",
    "            break\n",
    "    statement = 'is a binary string' if count == 1 else 'is not a binart string' \n",
    "    print(f'{input_string} {statement}')\n",
    "\n",
    "checkBinary()\n",
    "checkBinary()"
   ]
  },
  {
   "cell_type": "markdown",
   "metadata": {},
   "source": [
    "**5. Write a Python program to find uncommon words from two Strings ?**"
   ]
  },
  {
   "cell_type": "code",
   "execution_count": 17,
   "metadata": {},
   "outputs": [
    {
     "name": "stdout",
     "output_type": "stream",
     "text": [
      "Enter the String 1: sai venkat\n",
      "Enter the String 2: sai kumar\n",
      "{'venkat', 'kumar'}\n"
     ]
    }
   ],
   "source": [
    "\n",
    "input_string_1 = set(input(\"Enter the String 1: \").split(' '))\n",
    "input_string_2 = set(input(\"Enter the String 2: \").split(' '))\n",
    "output_string = (input_string_1.union(input_string_2)).difference(input_string_1.intersection(input_string_2))\n",
    "print(output_string)"
   ]
  },
  {
   "cell_type": "markdown",
   "metadata": {},
   "source": [
    "\n",
    "**6. Write a Python to find all duplicate characters in string ?**"
   ]
  },
  {
   "cell_type": "code",
   "execution_count": 18,
   "metadata": {},
   "outputs": [
    {
     "name": "stdout",
     "output_type": "stream",
     "text": [
      "Enter the string: Don’t let yesterday take up too much of today.\n",
      "Duplicate characters are: ['u', 'a', 'o', 't', 'y', ' ', 'd', 'e']\n"
     ]
    }
   ],
   "source": [
    "\n",
    "input_string = input('Enter the string: ')\n",
    "non_duplicate_list = []\n",
    "duplicate_list = []\n",
    "for i in input_string:\n",
    "    if i not in non_duplicate_list:\n",
    "        non_duplicate_list.append(i)\n",
    "    else:\n",
    "        duplicate_list.append(i)\n",
    "print(f'Duplicate characters are: {list(set(duplicate_list))}')\n"
   ]
  },
  {
   "cell_type": "markdown",
   "metadata": {},
   "source": [
    "\n",
    "**7. Write a Python Program to check if a string contains any special character?**"
   ]
  },
  {
   "cell_type": "code",
   "execution_count": 21,
   "metadata": {},
   "outputs": [
    {
     "name": "stdout",
     "output_type": "stream",
     "text": [
      "Enter the string: “If you’re going through hell, keep going.” ~ Winston Churchill\n",
      "There are 1 Speical Characters in “If you’re going through hell, keep going.” ~ Winston Churchill which is ['~']\n"
     ]
    }
   ],
   "source": [
    "def checkSpecialChar():\n",
    "    special_chars = '[@_!#$%^&*()<>?/\\|}{~:]'\n",
    "    input_num = input('Enter the string: ')\n",
    "    count = 0\n",
    "    char_list = []\n",
    "    for i in input_num:\n",
    "        if i in special_chars:\n",
    "            char_list.append(i)\n",
    "            count = count+1\n",
    "    print(f'There are {count} Speical Characters in {input_num} which is {char_list}')\n",
    "            \n",
    "        \n",
    "checkSpecialChar()\n"
   ]
  }
 ],
 "metadata": {
  "kernelspec": {
   "display_name": "Python 3 (ipykernel)",
   "language": "python",
   "name": "python3"
  },
  "language_info": {
   "codemirror_mode": {
    "name": "ipython",
    "version": 3
   },
   "file_extension": ".py",
   "mimetype": "text/x-python",
   "name": "python",
   "nbconvert_exporter": "python",
   "pygments_lexer": "ipython3",
   "version": "3.10.9"
  }
 },
 "nbformat": 4,
 "nbformat_minor": 2
}
