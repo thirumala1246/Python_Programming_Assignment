{
 "cells": [
  {
   "attachments": {},
   "cell_type": "markdown",
   "metadata": {},
   "source": [
    "**1. Write a Python Program to Display Fibonacci Sequence using Recursion ?**"
   ]
  },
  {
   "cell_type": "code",
   "execution_count": 8,
   "metadata": {},
   "outputs": [
    {
     "name": "stdout",
     "output_type": "stream",
     "text": [
      "Length of series:4\n",
      "0, 1, 3, 5, 8, 13, "
     ]
    }
   ],
   "source": [
    "def fibonacci(n,a,b):\n",
    "    if n == 0:\n",
    "        return 1\n",
    "    else:\n",
    "        result = a+b\n",
    "        print(result, end=', ')\n",
    "        fibonacci(n-1,b,result)\n",
    "input_number= int(input('Enter the length of Series: '))\n",
    "print(f'Length of series:{input_number}')\n",
    "print('0, 1',end=', ')\n",
    "fibonacci(input_number,1,2)"
   ]
  },
  {
   "attachments": {},
   "cell_type": "markdown",
   "metadata": {},
   "source": [
    "**2. Write a Python Program to Find Factorial of a Number using Recursion ?**"
   ]
  },
  {
   "cell_type": "code",
   "execution_count": 5,
   "metadata": {},
   "outputs": [
    {
     "name": "stdout",
     "output_type": "stream",
     "text": [
      "number:5\n",
      "The Factorial of 5 is 120\n"
     ]
    }
   ],
   "source": [
    "def factorial(num):\n",
    "    if (num < 1):\n",
    "        return 1\n",
    "    else:\n",
    "        return num*factorial(num-1)\n",
    "input = int(input('Enter a number: '))\n",
    "print(f'number:{input}')\n",
    "value = factorial(input)\n",
    "print(f'The Factorial of {input} is {value}')"
   ]
  },
  {
   "attachments": {},
   "cell_type": "markdown",
   "metadata": {},
   "source": [
    "**3. Write a Python Program to Calculate your Body Mass Index ?**"
   ]
  },
  {
   "cell_type": "code",
   "execution_count": 3,
   "metadata": {},
   "outputs": [
    {
     "name": "stdout",
     "output_type": "stream",
     "text": [
      "Weight:75\n",
      "Height:5.9\n",
      "Your're Body Mass Index is 2.154553289284688 and status is Underweight \n"
     ]
    }
   ],
   "source": [
    "weight = eval(input('Enter your Weight(kgs): '))\n",
    "height = eval(input('Enter your Height(mts): '))\n",
    "bmi = weight/pow(height,2)\n",
    "if (bmi < 18.5):\n",
    "    outcome = 'Underweight'\n",
    "elif (bmi >= 18.5 and bmi < 24.9):\n",
    "    outcome = 'Healthy'\n",
    "elif (bmi >= 24.9 and bmi < 30):\n",
    "    outcome = 'Overweight'\n",
    "elif (bmi >=30):\n",
    "    outcome = 'Suffering from Obesity'\n",
    "print(f'Weight:{weight}')\n",
    "print(f'Height:{height}')\n",
    "print(f'Your\\'re Body Mass Index is {bmi} and status is {outcome} ')"
   ]
  },
  {
   "attachments": {},
   "cell_type": "markdown",
   "metadata": {},
   "source": [
    "**4. Write a Python Program to Calculate the Natural Logarithm of any Number ?**"
   ]
  },
  {
   "cell_type": "code",
   "execution_count": 5,
   "metadata": {},
   "outputs": [
    {
     "name": "stdout",
     "output_type": "stream",
     "text": [
      "input_number:24\n",
      "3.1780538303479458\n"
     ]
    }
   ],
   "source": [
    "import math\n",
    "\n",
    "input_number = eval(input(\"Enter a Number:\"))\n",
    "print(f'input_number:{input_number}')\n",
    "print(math.log(input_number))\n"
   ]
  },
  {
   "attachments": {},
   "cell_type": "markdown",
   "metadata": {},
   "source": [
    "**5. Write a Python Program for Cube sum of first n Natural Numbers ?**"
   ]
  },
  {
   "cell_type": "code",
   "execution_count": 7,
   "metadata": {},
   "outputs": [
    {
     "name": "stdout",
     "output_type": "stream",
     "text": [
      "Number: 5\n",
      "The Cube Sum of First 5 Natural Numbers is 225.0\n"
     ]
    }
   ],
   "source": [
    "\n",
    "input_number = int(input(\"Enter the no of Natural Numbers: \"))\n",
    "outcome = pow(((input_number * (input_number +1))/2),2)\n",
    "print(f'Number: {input_number}')\n",
    "print(f'The Cube Sum of First {input_number} Natural Numbers is {outcome}')\n"
   ]
  }
 ],
 "metadata": {
  "kernelspec": {
   "display_name": "base",
   "language": "python",
   "name": "python3"
  },
  "language_info": {
   "codemirror_mode": {
    "name": "ipython",
    "version": 3
   },
   "file_extension": ".py",
   "mimetype": "text/x-python",
   "name": "python",
   "nbconvert_exporter": "python",
   "pygments_lexer": "ipython3",
   "version": "3.10.11"
  },
  "orig_nbformat": 4
 },
 "nbformat": 4,
 "nbformat_minor": 2
}
