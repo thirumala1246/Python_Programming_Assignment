{
 "cells": [
  {
   "attachments": {},
   "cell_type": "markdown",
   "metadata": {},
   "source": [
    "**1. Write a Python Program to find sum of Array ?**"
   ]
  },
  {
   "cell_type": "code",
   "execution_count": 1,
   "metadata": {},
   "outputs": [
    {
     "name": "stdout",
     "output_type": "stream",
     "text": [
      "The sum of [1, 2, 3] is 6\n"
     ]
    }
   ],
   "source": [
    "\n",
    "input_array = eval(input(\"Enter the Array: \"))\n",
    "input_array = [x for x in range(1,input_array+1)]\n",
    "print(f'The sum of {input_array} is {sum(input_array)}')"
   ]
  },
  {
   "attachments": {},
   "cell_type": "markdown",
   "metadata": {},
   "source": [
    "**2. Write a Python Program to find Largest element in an Array ?**"
   ]
  },
  {
   "cell_type": "code",
   "execution_count": 2,
   "metadata": {},
   "outputs": [
    {
     "name": "stdout",
     "output_type": "stream",
     "text": [
      "The Largest Element in [1, 2, 3, 4] is 4\n"
     ]
    }
   ],
   "source": [
    "\n",
    "input_array = eval(input(\"Enter the Array: \"))\n",
    "input_array = [x for x in range(1,input_array+1)]\n",
    "print(f\"The Largest Element in {input_array} is {sorted(input_array, reverse=True)[0]}\")\n"
   ]
  },
  {
   "attachments": {},
   "cell_type": "markdown",
   "metadata": {},
   "source": [
    "**3. Write a Python Program for array rotation ?**"
   ]
  },
  {
   "cell_type": "code",
   "execution_count": 3,
   "metadata": {},
   "outputs": [
    {
     "name": "stdout",
     "output_type": "stream",
     "text": [
      "The Reverse of Array [1, 2, 3, 4, 5] is [5, 4, 3, 2, 1]\n"
     ]
    }
   ],
   "source": [
    "\n",
    "input_array = eval(input(\"Enter the Array: \"))\n",
    "input_array = [x for x in range(1,input_array+1)]\n",
    "print(f\"The Reverse of Array {input_array} is {input_array[::-1]}\")\n"
   ]
  },
  {
   "attachments": {},
   "cell_type": "markdown",
   "metadata": {},
   "source": [
    "**4. Write a Python Program to Split the array and add the first part to the end ?**"
   ]
  },
  {
   "cell_type": "code",
   "execution_count": 4,
   "metadata": {},
   "outputs": [
    {
     "name": "stdout",
     "output_type": "stream",
     "text": [
      "Array:(12, 34, 56, 78, 12)\n",
      "The Sum of First and Last Elements of Array (12, 34, 56, 78, 12) is 24\n"
     ]
    }
   ],
   "source": [
    "\n",
    "input_array = eval(input(\"Enter the Array: \"))\n",
    "print(f'Array:{input_array}')\n",
    "print(f\"The Sum of First and Last Elements of Array {input_array} is {input_array[0]+input_array[-1]}\")"
   ]
  },
  {
   "attachments": {},
   "cell_type": "markdown",
   "metadata": {},
   "source": [
    "**5. Write a Python Program to check if given array is Monotonic ?**"
   ]
  },
  {
   "cell_type": "code",
   "execution_count": 5,
   "metadata": {},
   "outputs": [
    {
     "name": "stdout",
     "output_type": "stream",
     "text": [
      "Array (12, 4, 6, 2, 1) is Not Monotonic\n"
     ]
    }
   ],
   "source": [
    "\n",
    "input_array = eval(input(\"Enter the Array: \"))\n",
    "if(all(input_array[i]<=input_array[i+1] for i in range(len(input_array)-1)) or all(input_array[i]>=input_array[i+1] for i in range(len(input_array)-1))):\n",
    "    print(f'Array {input_array} is Monotonic')\n",
    "else:\n",
    "    print(f'Array {input_array} is Not Monotonic')"
   ]
  }
 ],
 "metadata": {
  "kernelspec": {
   "display_name": "base",
   "language": "python",
   "name": "python3"
  },
  "language_info": {
   "codemirror_mode": {
    "name": "ipython",
    "version": 3
   },
   "file_extension": ".py",
   "mimetype": "text/x-python",
   "name": "python",
   "nbconvert_exporter": "python",
   "pygments_lexer": "ipython3",
   "version": "3.10.9"
  },
  "orig_nbformat": 4
 },
 "nbformat": 4,
 "nbformat_minor": 2
}
