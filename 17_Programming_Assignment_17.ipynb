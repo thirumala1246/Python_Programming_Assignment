{
 "cells": [
  {
   "cell_type": "markdown",
   "metadata": {},
   "source": [
    "**1.Create a function that takes three arguments a, b, c and returns the sum of the numbers that are evenly divided by c from the range a, b inclusive ?** <br>\n",
    "**Examples:** <br>\n",
    "**`evenly_divisible(1, 10, 20) ➞ 0 # No number between 1 and 10 can be evenly divided by 20. `** <br>\n",
    "**`evenly_divisible(1, 10, 2) ➞ 30 # 2 + 4 + 6 + 8 + 10 = 30 `** <br>\n",
    "**`evenly_divisible(1, 10, 3) ➞ 18 # 3 + 6 + 9 = 18`** <br>"
   ]
  },
  {
   "cell_type": "code",
   "execution_count": 1,
   "metadata": {},
   "outputs": [
    {
     "name": "stdout",
     "output_type": "stream",
     "text": [
      "(1, 10, 20) ➞ 0\n",
      "(1, 10, 2) ➞ 30\n",
      "(1, 10, 3) ➞ 18\n"
     ]
    }
   ],
   "source": [
    "def even_divisible(a,b,c):\n",
    "    divList = []\n",
    "    for num in range(a,b+1):\n",
    "        if num%c == 0:\n",
    "            divList.append(num)\n",
    "    print(f'{a,b,c} ➞ {sum(divList)}')\n",
    "\n",
    "even_divisible(1,10,20)\n",
    "even_divisible(1,10,2)\n",
    "even_divisible(1,10,3)"
   ]
  },
  {
   "cell_type": "markdown",
   "metadata": {},
   "source": [
    "**2.Create a function that returns True if a given inequality expression is correct and False otherwise ?** <br>\n",
    "**Examples:** <br>\n",
    "**`correct_signs(\"3 < 7 < 11\") ➞ True`** <br>\n",
    "**`correct_signs(\"13 > 44 > 33 > 1\") ➞ False`** <br>\n",
    "**`correct_signs(\"1 < 2 < 6 < 9 > 3\") ➞ True`** <br>"
   ]
  },
  {
   "cell_type": "code",
   "execution_count": 1,
   "metadata": {},
   "outputs": [
    {
     "name": "stdout",
     "output_type": "stream",
     "text": [
      "Enter the inequality: 3 < 7 < 11\n",
      "3 < 7 < 11 ➞ True\n",
      "Enter the inequality: 13 > 44 > 33 > 1\n",
      "13 > 44 > 33 > 1 ➞ False\n",
      "Enter the inequality: 1 < 2 < 6 < 9 > 3\n",
      "1 < 2 < 6 < 9 > 3 ➞ True\n"
     ]
    }
   ],
   "source": [
    "def correct_signs():\n",
    "    input_signs = input('Enter the inequality: ')\n",
    "    output1 = eval(input_signs)\n",
    "    print(f'{input_signs} ➞ {output1}')\n",
    "\n",
    "for x in range(3):\n",
    "    correct_signs()"
   ]
  },
  {
   "cell_type": "markdown",
   "metadata": {},
   "source": [
    "**3.Create a function that replaces all the vowels in a string with a specified character ?** <br>\n",
    "**Examples:** <br>\n",
    "**`replace_vowels(\"the aardvark\", \"#\") ➞ \"th# ##rdv#rk\"`** <br>\n",
    "**`replace_vowels(\"minnie mouse\", \"?\") ➞ \"m?nn?? m??s?\"`** <br>\n",
    "**`replace_vowels(\"shakespeare\", \"*\") ➞ \"shksp**r\"`** <br>"
   ]
  },
  {
   "cell_type": "code",
   "execution_count": 2,
   "metadata": {},
   "outputs": [
    {
     "name": "stdout",
     "output_type": "stream",
     "text": [
      "String: the aardvark\n",
      "Replacement character: #\n",
      "the aardvark # ➞ th# ##rdv#rk\n",
      "String: minnie mouse\n",
      "Replacement character: ?\n",
      "minnie mouse ? ➞ m?nn?? m??s?\n",
      "String: shakespeare\n",
      "Replacement character: *\n",
      "shakespeare * ➞ sh*k*sp**r*\n"
     ]
    }
   ],
   "source": [
    "def replace_vowels():\n",
    "    vowels = ['a','e','i','o','u','A','E','I','O','U']\n",
    "    input_string = input(\"String: \")\n",
    "    string_copy = input_string\n",
    "    input_char = input('Replacement character: ')\n",
    "    for i in input_string:\n",
    "        if i in vowels:\n",
    "            input_string = input_string.replace(i,input_char)\n",
    "    print(f'{string_copy} {input_char} ➞ {input_string}')\n",
    "            \n",
    "for x in range(3):\n",
    "    replace_vowels()"
   ]
  },
  {
   "cell_type": "markdown",
   "metadata": {},
   "source": [
    "**4.Write a function that calculates the factorial of a number recursively ?** <br>\n",
    "**Examples:** <br>\n",
    "**factorial(5) ➞ 120** <br>\n",
    "**factorial(3) ➞ 6** <br>\n",
    "**factorial(1) ➞ 1** <br>\n",
    "**factorial(0) ➞ 1** <br>"
   ]
  },
  {
   "cell_type": "code",
   "execution_count": 3,
   "metadata": {},
   "outputs": [
    {
     "name": "stdout",
     "output_type": "stream",
     "text": [
      "factorial(5) ➞ 120\n",
      "factorial(3) ➞ 6\n",
      "factorial(1) ➞ 1\n",
      "factorial(0) ➞ 1\n"
     ]
    }
   ],
   "source": [
    "def factorial(n):\n",
    "    if n==0:\n",
    "        return 1\n",
    "    return n * factorial(n-1)\n",
    "\n",
    "print(f'factorial(5) ➞ {factorial(5)}')\n",
    "print(f'factorial(3) ➞ {factorial(3)}')\n",
    "print(f'factorial(1) ➞ {factorial(1)}')\n",
    "print(f'factorial(0) ➞ {factorial(0)}')"
   ]
  },
  {
   "cell_type": "markdown",
   "metadata": {},
   "source": [
    "**5.Hamming distance is the number of characters that differ between two strings ?** <br>\n",
    "**To illustrate:** <br>\n",
    "**`String1: \"abcbba\"`** <br>\n",
    "**`String2: \"abcbda\"`** <br>\n",
    "**Hamming Distance: 1 - \"b\" vs. \"d\" is the only difference.** <br>\n",
    "**Create a function that computes the hamming distance between two strings.** <br>\n",
    "**Examples:** <br>\n",
    "**`hamming_distance(\"abcde\", \"bcdef\") ➞ 5`** <br>\n",
    "**`hamming_distance(\"abcde\", \"abcde\") ➞ 0`** <br>\n",
    "**`hamming_distance(\"strong\", \"strung\") ➞ 1`** <br>"
   ]
  },
  {
   "cell_type": "code",
   "execution_count": 4,
   "metadata": {},
   "outputs": [
    {
     "name": "stdout",
     "output_type": "stream",
     "text": [
      "Enter the String_1: abcde\n",
      "Enter the String_2: bcdef\n",
      "Hamning Distance b/w abcde and bcdef ➞ 5\n",
      "Enter the String_1: abcde\n",
      "Enter the String_2: abcde\n",
      "Hamning Distance b/w abcde and abcde ➞ 0\n",
      "Enter the String_1: strong\n",
      "Enter the String_2: strung\n",
      "Hamning Distance b/w strong and strung ➞ 1\n"
     ]
    }
   ],
   "source": [
    "def genHamDistance():\n",
    "    string1 = input('Enter the String_1: ')\n",
    "    string2 = input('Enter the String_2: ')\n",
    "    if len(string1) == len(string2):\n",
    "        count = 0\n",
    "        for i in range(len(string1)):\n",
    "            if string1[i] != string2[i]:\n",
    "                count = count+1\n",
    "        print(f'Hamning Distance b/w {string1} and {string2} ➞ {count}')\n",
    "    else:\n",
    "        print('Both Strings Must be of Same Length')\n",
    "\n",
    "for x in range(3):\n",
    "    genHamDistance()"
   ]
  }
 ],
 "metadata": {
  "kernelspec": {
   "display_name": "Python 3 (ipykernel)",
   "language": "python",
   "name": "python3"
  },
  "language_info": {
   "codemirror_mode": {
    "name": "ipython",
    "version": 3
   },
   "file_extension": ".py",
   "mimetype": "text/x-python",
   "name": "python",
   "nbconvert_exporter": "python",
   "pygments_lexer": "ipython3",
   "version": "3.10.9"
  }
 },
 "nbformat": 4,
 "nbformat_minor": 2
}
