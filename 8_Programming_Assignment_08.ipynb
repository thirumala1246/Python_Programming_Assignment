{
 "cells": [
  {
   "attachments": {},
   "cell_type": "markdown",
   "metadata": {},
   "source": [
    "**1. Write a Python Program to Add two Matrices ?**"
   ]
  },
  {
   "cell_type": "code",
   "execution_count": 2,
   "metadata": {},
   "outputs": [
    {
     "name": "stdout",
     "output_type": "stream",
     "text": [
      "Inputs: [[1, 2, 3], [4, 5, 6], [7, 8, 9]],[[9, 8, 7], [7, 5, 4], [4, 2, 1]]\n",
      "Output: [[10, 10, 10], [11, 10, 10], [11, 10, 10]]\n"
     ]
    }
   ],
   "source": [
    "a,b =[[1,2,3],[4,5,6],[7,8,9]],[[9,8,7],[7,5,4],[4,2,1]]\n",
    "print(f'Inputs: {a},{b}')\n",
    "if len(a) == len(b):\n",
    "    output = []\n",
    "    for x in range(len(a)):\n",
    "        if len(a[x]) == len(b[x]):\n",
    "            output.append([])\n",
    "            for y in range(len(a[x])):\n",
    "                    output[x].append(a[x][y]+b[x][y])\n",
    "        else:\n",
    "            print('Both Matrices must contains same no of rows and columns') \n",
    "else:\n",
    "    print('Both Matrices must contains same no of rows and columns')\n",
    "print(f'Output: {output}')"
   ]
  },
  {
   "attachments": {},
   "cell_type": "markdown",
   "metadata": {},
   "source": [
    "**2. Write a Python Program to Multiply two Matrices ?**"
   ]
  },
  {
   "cell_type": "code",
   "execution_count": 1,
   "metadata": {},
   "outputs": [
    {
     "name": "stdout",
     "output_type": "stream",
     "text": [
      "[[23, 53, 71], [47, 107, 143], [65, 149, 194]]\n"
     ]
    }
   ],
   "source": [
    "a = [[4,2,3],[7,5,6],[7,8,9]]\n",
    "b = [[2,4,7],[3,5,8],[3,9,9]]\n",
    "\n",
    "output = []\n",
    "if len(a[0]) == len(b):\n",
    "    for x in range(len(a[0])):\n",
    "        output.append([0 for x in range(len(b[0]))])\n",
    "    for i in range(len(a)):\n",
    "        for j in range(len(b[0])):\n",
    "            for k in range(len(b)):\n",
    "                output[i][j] += a[i][k]*b[k][j]\n",
    "    print(output)     \n",
    "else:\n",
    "    print('Matrix Multiplication is Not Possible')"
   ]
  },
  {
   "attachments": {},
   "cell_type": "markdown",
   "metadata": {},
   "source": [
    "\n",
    "**3. Write a Python Program to transpose a Matrix ?**"
   ]
  },
  {
   "cell_type": "code",
   "execution_count": 4,
   "metadata": {},
   "outputs": [
    {
     "name": "stdout",
     "output_type": "stream",
     "text": [
      "[[1, 2, 3], [4, 9, 6], [7, 10, 9]] -> [[1, 4, 7], [2, 9, 10], [3, 6, 9]]\n"
     ]
    }
   ],
   "source": [
    "a = [[1,2,3],[4,9,6],[7,10,9]]\n",
    "\n",
    "out_matrix = []\n",
    "for ele in range(len(a[0])):\n",
    "    out_matrix.append([0 for i in range(len(a))])\n",
    "for i in range(len(a)):\n",
    "    for j in range(len(a[i])):\n",
    "        out_matrix[j][i] = a[i][j]\n",
    "print(f'{a} -> {out_matrix}')"
   ]
  },
  {
   "attachments": {},
   "cell_type": "markdown",
   "metadata": {},
   "source": [
    "**4. Write a Python Program to sort Words in an Alphabatical Order ?**"
   ]
  },
  {
   "cell_type": "code",
   "execution_count": 6,
   "metadata": {},
   "outputs": [
    {
     "name": "stdout",
     "output_type": "stream",
     "text": [
      "Entered string: Ineuron Full Stack Data Science\n",
      "Data Full Ineuron Science Stack\n"
     ]
    }
   ],
   "source": [
    "\n",
    "input_string = input(\"Enter a String: \").title()\n",
    "print(f'Entered string: {input_string}')\n",
    "sorted_list = sorted(input_string.split(' '))\n",
    "print(' '.join(sorted_list))\n"
   ]
  },
  {
   "attachments": {},
   "cell_type": "markdown",
   "metadata": {},
   "source": [
    "**5. Write a Python Program to remove Punctuations From a String ?**"
   ]
  },
  {
   "cell_type": "code",
   "execution_count": 7,
   "metadata": {},
   "outputs": [
    {
     "name": "stdout",
     "output_type": "stream",
     "text": [
      "Full Stacks Data Science\n"
     ]
    }
   ],
   "source": [
    "\n",
    "punctuations = '''!()-[]{};:'\"\\,<>./?@#$%^&*_~'''\n",
    "input_string = input('Enter a String: ')\n",
    "output_string = ''\n",
    "for x in input_string:\n",
    "    if x not in punctuations:\n",
    "        output_string += x\n",
    "print(output_string)"
   ]
  }
 ],
 "metadata": {
  "kernelspec": {
   "display_name": "base",
   "language": "python",
   "name": "python3"
  },
  "language_info": {
   "codemirror_mode": {
    "name": "ipython",
    "version": 3
   },
   "file_extension": ".py",
   "mimetype": "text/x-python",
   "name": "python",
   "nbconvert_exporter": "python",
   "pygments_lexer": "ipython3",
   "version": "3.10.11"
  },
  "orig_nbformat": 4
 },
 "nbformat": 4,
 "nbformat_minor": 2
}
