{
  "nbformat": 4,
  "nbformat_minor": 0,
  "metadata": {
    "colab": {
      "provenance": []
    },
    "kernelspec": {
      "name": "python3",
      "display_name": "Python 3"
    },
    "language_info": {
      "name": "python"
    }
  },
  "cells": [
    {
      "cell_type": "markdown",
      "source": [
        "**1. Write a Python program to print \"Hello Python\"?**<br>\n",
        "A.\n",
        "\n"
      ],
      "metadata": {
        "id": "BQnCDJwZBLzH"
      }
    },
    {
      "cell_type": "code",
      "source": [
        "print(\"Hello Python\")"
      ],
      "metadata": {
        "colab": {
          "base_uri": "https://localhost:8080/"
        },
        "id": "Q9sPkPMRFV-v",
        "outputId": "0be0ffe6-5aa3-4a23-d9e9-fc7426b78501"
      },
      "execution_count": 4,
      "outputs": [
        {
          "output_type": "stream",
          "name": "stdout",
          "text": [
            "Hello Python\n"
          ]
        }
      ]
    },
    {
      "cell_type": "markdown",
      "source": [
        "**2. Write a Python program to do arithmetical operations addition and division.?** <br>\n",
        "A."
      ],
      "metadata": {
        "id": "CJbHWQ-rFdEB"
      }
    },
    {
      "cell_type": "code",
      "source": [
        "a=int(input(\"enter a number 1:\"))\n",
        "b=int(input(\"enter a number 2:\"))\n",
        "res1=a+b\n",
        "res2=a/b\n",
        "print(\"division ->\",a,\"+\",b,\"=\",res1)\n",
        "print(\"division ->\",a,\"/\",b,\"=\",res2)\n"
      ],
      "metadata": {
        "colab": {
          "base_uri": "https://localhost:8080/"
        },
        "id": "mLg57gNpF6W1",
        "outputId": "0329018d-b271-41ce-bbf9-9528dacf3175"
      },
      "execution_count": 8,
      "outputs": [
        {
          "output_type": "stream",
          "name": "stdout",
          "text": [
            "enter a number 1:1\n",
            "enter a number 2:2\n",
            "division -> 1 + 2 = 3\n",
            "division -> 1 / 2 = 0.5\n"
          ]
        }
      ]
    },
    {
      "cell_type": "markdown",
      "source": [
        "**3. Write a Python program to find the area of a triangle?** <br>\n",
        "A."
      ],
      "metadata": {
        "id": "2opXwYVPHFzf"
      }
    },
    {
      "cell_type": "code",
      "source": [
        "height=float(input(\"enter height of the triangle:\"))\n",
        "base=float(input(\"enter base of the triangle:\"))\n",
        "area_of_triangle=0.5*height*base\n",
        "print(\"area of a triangle:\",area_of_triangle)"
      ],
      "metadata": {
        "colab": {
          "base_uri": "https://localhost:8080/"
        },
        "id": "RHSi_frLHOB3",
        "outputId": "9e6e09a1-db44-41a3-bccb-22faa8927494"
      },
      "execution_count": 10,
      "outputs": [
        {
          "output_type": "stream",
          "name": "stdout",
          "text": [
            "enter height of the triangle:4.5\n",
            "enter base of the triangle:6\n",
            "area of a triangle: 13.5\n"
          ]
        }
      ]
    },
    {
      "cell_type": "markdown",
      "source": [
        "**4. Write a Python program to swap two variables?** <br>\n",
        "A."
      ],
      "metadata": {
        "id": "mGDzDdsNJmEl"
      }
    },
    {
      "cell_type": "code",
      "source": [
        "x=int(input(\"enter a number1:\"))\n",
        "y=int(input(\"enter a number2:\"))\n",
        "def swap_two_variable(a,b):\n",
        "  temp=a\n",
        "  a=b\n",
        "  b=temp\n",
        "  return a,b\n",
        "print(\"before swapping the two variable:\",x,y)\n",
        "x,y = swap_two_variable(x,y)\n",
        "print(\"after swapping the two variable:\",x,y)\n"
      ],
      "metadata": {
        "colab": {
          "base_uri": "https://localhost:8080/"
        },
        "id": "vMc2K46rJuBs",
        "outputId": "1ff7de64-f4f7-48e5-e413-701265e588ab"
      },
      "execution_count": 12,
      "outputs": [
        {
          "output_type": "stream",
          "name": "stdout",
          "text": [
            "enter a number1:2\n",
            "enter a number2:3\n",
            "before swapping the two variable: 2 3\n",
            "after swapping the two variable: 3 2\n"
          ]
        }
      ]
    },
    {
      "cell_type": "markdown",
      "source": [
        "**5. Write a Python program to generate a random number?** <br>\n",
        "A."
      ],
      "metadata": {
        "id": "74gz5qFkNAW2"
      }
    },
    {
      "cell_type": "code",
      "source": [
        "from random import randint\n",
        "def generateRandomNumber(from1=0, to1=100000):\n",
        "  print(\"Random number:\",randint(from1,to1))\n",
        "#without limit\n",
        "generateRandomNumber()\n",
        "#within limit\n",
        "generateRandomNumber(0,1020)\n"
      ],
      "metadata": {
        "colab": {
          "base_uri": "https://localhost:8080/"
        },
        "id": "k3wQDrZBNGPZ",
        "outputId": "740181eb-4df3-4cd7-a421-0c6df2cfcb97"
      },
      "execution_count": 14,
      "outputs": [
        {
          "output_type": "stream",
          "name": "stdout",
          "text": [
            "Random number: 83805\n",
            "Random number: 894\n"
          ]
        }
      ]
    }
  ]
}