{
 "cells": [
  {
   "attachments": {},
   "cell_type": "markdown",
   "metadata": {},
   "source": [
    "**1.Write a Python Program to check if the given number is a Disarium Number ?**"
   ]
  },
  {
   "cell_type": "code",
   "execution_count": 3,
   "metadata": {},
   "outputs": [
    {
     "name": "stdout",
     "output_type": "stream",
     "text": [
      "Enter a Number: 7\n",
      "7 is a Disarium Number\n"
     ]
    }
   ],
   "source": [
    "input_number = input('Enter a Number: ')\n",
    "sum = 0\n",
    "for x in range(len(input_number)):\n",
    "    sum = sum + int(input_number[x])**(x+1)\n",
    "if sum == int(input_number):\n",
    "    print(f'{input_number} is a Disarium Number')\n",
    "else:\n",
    "    print(f'{input_number} is a Not Disarium Number')"
   ]
  },
  {
   "attachments": {},
   "cell_type": "markdown",
   "metadata": {},
   "source": [
    "**2.Write a Python Program to print all Disarium numbers between 1 to 100 ?**"
   ]
  },
  {
   "cell_type": "code",
   "execution_count": 4,
   "metadata": {},
   "outputs": [
    {
     "name": "stdout",
     "output_type": "stream",
     "text": [
      "output_number: [1, 2, 3, 4, 5, 6, 7, 8, 9, 89]\n"
     ]
    }
   ],
   "source": [
    "start=1\n",
    "end=100\n",
    "output_number = []\n",
    "for count in range(start,end+1):\n",
    "    sum = 0\n",
    "    for i in range(len(str(count))):\n",
    "        sum = sum + int(str(count)[i])**(i+1)\n",
    "    if sum == count:\n",
    "         output_number.append(count)\n",
    "print(f'output_number: {output_number}')"
   ]
  },
  {
   "attachments": {},
   "cell_type": "markdown",
   "metadata": {},
   "source": [
    "**3.Write a Python Program to check if the given number is Happy Number ?**"
   ]
  },
  {
   "cell_type": "code",
   "execution_count": 5,
   "metadata": {},
   "outputs": [
    {
     "name": "stdout",
     "output_type": "stream",
     "text": [
      "Enter a Number: 7\n",
      "7 is a Happy Number\n"
     ]
    }
   ],
   "source": [
    "input_number = input('Enter a Number: ')\n",
    "duplicate_number = input_number\n",
    "trackNumber = set()   \n",
    "while True:\n",
    "    if input_number != '1' and str(input_number) not in trackNumber:\n",
    "        trackNumber.add(input_number)\n",
    "        sum = 0\n",
    "        for x in range(len((input_number))):\n",
    "            sum = sum + int(input_number[x])**2\n",
    "        input_number = str(sum)\n",
    "    elif str(input_number) in trackNumber:\n",
    "        print(f'{duplicate_number} is not a Happy Number')\n",
    "        break\n",
    "    else:\n",
    "        print(f'{duplicate_number} is a Happy Number')\n",
    "        break"
   ]
  },
  {
   "attachments": {},
   "cell_type": "markdown",
   "metadata": {},
   "source": [
    "**4.Write a Python Program to print all Happy numbers between 1 and 100 ?**"
   ]
  },
  {
   "cell_type": "code",
   "execution_count": 6,
   "metadata": {},
   "outputs": [
    {
     "name": "stdout",
     "output_type": "stream",
     "text": [
      "The Happy Numbers between 1 and 100 are [1, 7, 10, 13, 19, 23, 28, 31, 32, 44, 49, 68, 70, 79, 82, 86, 91, 94, 97, 100]\n"
     ]
    }
   ],
   "source": [
    "start=1\n",
    "end=100\n",
    "happyNumbersList = []\n",
    "for input_number in range(start,end+1):\n",
    "    input_number = str(input_number)\n",
    "    number_holder = input_number\n",
    "    trackNumber = set()   \n",
    "    while True:\n",
    "        if input_number != '1' and str(input_number) not in trackNumber:\n",
    "            trackNumber.add(input_number)\n",
    "            sum = 0\n",
    "            for ele in range(len((input_number))):\n",
    "                sum = sum + int(input_number[ele])**2\n",
    "            input_number = str(sum)\n",
    "        elif str(input_number) in trackNumber:\n",
    "            break\n",
    "        else:\n",
    "            happyNumbersList.append(int(number_holder))\n",
    "            break\n",
    "print(f'The Happy Numbers between {start} and {end} are {happyNumbersList}')"
   ]
  },
  {
   "attachments": {},
   "cell_type": "markdown",
   "metadata": {},
   "source": [
    "**5.Write a Python Program to determine whether the given number is a Harshad Number ?**"
   ]
  },
  {
   "cell_type": "code",
   "execution_count": 8,
   "metadata": {},
   "outputs": [
    {
     "name": "stdout",
     "output_type": "stream",
     "text": [
      "Enter a Number: 20\n",
      "20 is a Harshad Number\n"
     ]
    }
   ],
   "source": [
    "input_number = input('Enter a Number: ')\n",
    "sum = 0\n",
    "for item in range(len(input_number)):\n",
    "    sum = sum + int(input_number[item])\n",
    "if int(input_number)%sum == 0:\n",
    "    print(f'{input_number} is a Harshad Number')\n",
    "else:\n",
    "    print(f'{input_number} is a Not Harshad Number')"
   ]
  },
  {
   "attachments": {},
   "cell_type": "markdown",
   "metadata": {},
   "source": [
    "**6.Write a Python Program to print all pronic numbers between 1 and 100 ?**"
   ]
  },
  {
   "cell_type": "code",
   "execution_count": 9,
   "metadata": {},
   "outputs": [
    {
     "name": "stdout",
     "output_type": "stream",
     "text": [
      "[2, 6, 12, 20, 30, 42, 56, 72, 90, 110, 132, 156, 182, 210, 240, 272, 306, 342, 380, 420, 462, 506, 552, 600, 650, 702, 756, 812, 870, 930, 992, 1056, 1122, 1190, 1260, 1332, 1406, 1482, 1560, 1640, 1722, 1806, 1892, 1980, 2070, 2162, 2256, 2352, 2450, 2550, 2652, 2756, 2862, 2970, 3080, 3192, 3306, 3422, 3540, 3660, 3782, 3906, 4032, 4160, 4290, 4422, 4556, 4692, 4830, 4970, 5112, 5256, 5402, 5550, 5700, 5852, 6006, 6162, 6320, 6480, 6642, 6806, 6972, 7140, 7310, 7482, 7656, 7832, 8010, 8190, 8372, 8556, 8742, 8930, 9120, 9312, 9506, 9702, 9900, 10100]\n"
     ]
    }
   ],
   "source": [
    "start=1\n",
    "end=100\n",
    "outputList = []\n",
    "for x in range(start,end+1):\n",
    "    outputList.append((x)*(x+1))\n",
    "print(outputList)"
   ]
  }
 ],
 "metadata": {
  "kernelspec": {
   "display_name": "Python 3 (ipykernel)",
   "language": "python",
   "name": "python3"
  },
  "language_info": {
   "codemirror_mode": {
    "name": "ipython",
    "version": 3
   },
   "file_extension": ".py",
   "mimetype": "text/x-python",
   "name": "python",
   "nbconvert_exporter": "python",
   "pygments_lexer": "ipython3",
   "version": "3.10.11"
  }
 },
 "nbformat": 4,
 "nbformat_minor": 2
}
