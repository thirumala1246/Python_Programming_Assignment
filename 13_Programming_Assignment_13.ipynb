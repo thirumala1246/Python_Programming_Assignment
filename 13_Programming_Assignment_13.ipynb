{
 "cells": [
  {
   "attachments": {},
   "cell_type": "markdown",
   "metadata": {},
   "source": [
    "**1.Write a program that calculates and prints the value according to the given formula:** <br>\n",
    "**Q = Square root of [(2 * C * D)/H]** <br>\n",
    "**Following are the fixed values of C and H:** <br>\n",
    "**C is 50. H is 30.** <br>\n",
    "**D is the variable whose values should be input to your program in a comma-separated** <br>\n",
    "**sequence.** <br>\n",
    "**Example** <br>\n",
    "**Let us assume the following comma separated input sequence is given to the program:** <br>\n",
    "**100,150,180** <br>\n",
    "**The output of the program should be:** <br>\n",
    "**18,22,24** <br>"
   ]
  },
  {
   "cell_type": "code",
   "execution_count": 1,
   "metadata": {},
   "outputs": [
    {
     "name": "stdout",
     "output_type": "stream",
     "text": [
      "Enter the Input: 100,150,180\n",
      "Output: 18,22,24\n"
     ]
    }
   ],
   "source": [
    "from math import sqrt\n",
    "\n",
    "numbers = eval(input(\"Enter the Input: \"))\n",
    "output = []\n",
    "C = 50 # Declaring and initializing constant C\n",
    "H = 30 # Declaring and initializing constant H\n",
    "for i in numbers:\n",
    "    Q = str(int(sqrt((2*C*i)/H)))\n",
    "    output.append(Q)\n",
    "print(\"Output: {}\".format(','.join(output)))\n"
   ]
  },
  {
   "attachments": {},
   "cell_type": "markdown",
   "metadata": {},
   "source": [
    "**2.Write a program which takes 2 digits, X,Y as input and generates a 2-dimensional array. The element value in the i-th row and j-th column of the array should be i*j.** <br>\n",
    "**Note: i=0,1.., X-1; j=0,1,¡Y-1.** <br>\n",
    "**Example: Suppose the following inputs are given to the program: 3,5** <br>\n",
    "**Then, the output of the program should be:[[0, 0, 0, 0, 0], [0, 1, 2, 3, 4], [0, 2, 4, 6, 8]]** <br>"
   ]
  },
  {
   "cell_type": "code",
   "execution_count": 2,
   "metadata": {},
   "outputs": [
    {
     "name": "stdout",
     "output_type": "stream",
     "text": [
      "Enter the No of Rows:3\n",
      "Enter the No of Columns:4\n",
      "[[0, 0, 0, 0], [0, 1, 2, 3], [0, 2, 4, 6]]\n"
     ]
    }
   ],
   "source": [
    "import array as arr\n",
    "\n",
    "x = int(input('Enter the No of Rows:'))\n",
    "y = int(input('Enter the No of Columns:')) \n",
    "output_array = []\n",
    "for i in range(x):\n",
    "    output_array.insert(x,[])\n",
    "    for j in range(y):\n",
    "        output_array[i].append(i*j)\n",
    "print(output_array)"
   ]
  },
  {
   "attachments": {},
   "cell_type": "markdown",
   "metadata": {},
   "source": [
    "**3.Write a program that accepts a comma separated sequence of words as input and prints the words in a comma-separated sequence after sorting them alphabetically ?** <br>\n",
    "**Suppose the following input is supplied to the program: without,hello,bag,world** <br>\n",
    "**Then, the output should be: bag,hello,without,world** <br>"
   ]
  },
  {
   "cell_type": "code",
   "execution_count": 3,
   "metadata": {},
   "outputs": [
    {
     "name": "stdout",
     "output_type": "stream",
     "text": [
      "Enter the Input String: without,hello,bag,world\n",
      "Output: bag,hello,without,world\n"
     ]
    }
   ],
   "source": [
    "\n",
    "input_string = input(\"Enter the Input String: \")\n",
    "output_string = ','.join(sorted(input_string.split(',')))\n",
    "print(f'Output: {output_string}')"
   ]
  },
  {
   "attachments": {},
   "cell_type": "markdown",
   "metadata": {},
   "source": [
    "**4.Write a program that accepts a sequence of whitespace separated words as input and prints the words after removing all duplicate words and sorting them alphanumerically.** <br>\n",
    "**Suppose the following input is supplied to the program: hello world and practice makes perfect and hello world again** <br>\n",
    "**Then, the output should be: again and hello makes perfect practice world** <br>"
   ]
  },
  {
   "cell_type": "code",
   "execution_count": 4,
   "metadata": {},
   "outputs": [
    {
     "name": "stdout",
     "output_type": "stream",
     "text": [
      "Enter the Input String: hello world and practice makes perfect and hello world again\n",
      "Output: again and hello makes perfect practice world\n"
     ]
    }
   ],
   "source": [
    "\n",
    "input_string = input(\"Enter the Input String: \")\n",
    "output_string = ' '.join(sorted(sorted(list(set(input_string.split(\" \"))))))\n",
    "print(f'Output: {output_string}')"
   ]
  },
  {
   "attachments": {},
   "cell_type": "markdown",
   "metadata": {},
   "source": [
    "**5.Write a program that accepts a sentence and calculate the number of letters and digits.** <br>\n",
    "**Suppose the following input is supplied to the program: hello world! 123** <br>\n",
    "**Then, the output should be:** <br>\n",
    "**LETTERS 10** <br>\n",
    "**DIGITS 3** <br>"
   ]
  },
  {
   "cell_type": "code",
   "execution_count": 6,
   "metadata": {},
   "outputs": [
    {
     "name": "stdout",
     "output_type": "stream",
     "text": [
      "Enter the Input String: hello world! 123\n",
      "LETTERS 10 \n",
      "DIGITS 3\n"
     ]
    }
   ],
   "source": [
    "\n",
    "input_string = input(\"Enter the Input String: \")\n",
    "lettersList = 'ABCDEFGHIJKLMNOPQRSTUVWXYZabcdefghijklmnopqrstuvwxyz'\n",
    "digitsList = '0123456789'\n",
    "letters = 0\n",
    "digits = 0\n",
    "for i in input_string:\n",
    "    if i in lettersList:\n",
    "        letters += 1\n",
    "    if i in digitsList:\n",
    "        digits += 1\n",
    "print(f'LETTERS {letters} \\nDIGITS {digits}')\n"
   ]
  },
  {
   "attachments": {},
   "cell_type": "markdown",
   "metadata": {},
   "source": [
    "**6.A website requires the users to input username and password to register. Write a program to check the validity of password input by users.** <br>\n",
    "**Following are the criteria for checking the password:** <br>\n",
    "\n",
    "**1.At least 1 letter between [a-z]** <br>\n",
    "**2.At least 1 number between [0-9]** <br>\n",
    "**3.At least 1 letter between [A-Z]** <br>\n",
    "**4.At least 1 character from [$#@]** <br>\n",
    "**5.Minimum length of transaction password: 6** <br>\n",
    "**6.Maximum length of transaction password: 12** <br>\n",
    "**Your program should accept a sequence of comma separated passwords and will check them according to the above criteria. Passwords that match the criteria are to be printed, each separated by a comma.** <br>\n",
    "\n",
    "**Example:** <br>\n",
    "**If the following passwords are given as input to the program: `ABd1234@1,a F1#,2w3E*,2We3345 `** <br>\n",
    "**Then, the output of the program should be:`ABd1234@1`** <br>"
   ]
  },
  {
   "cell_type": "code",
   "execution_count": 8,
   "metadata": {},
   "outputs": [
    {
     "name": "stdout",
     "output_type": "stream",
     "text": [
      "Enter the Input String: ABd1234@1,a F1#,2w3E*,2We3345\n",
      "Output: ABd1234@1\n"
     ]
    }
   ],
   "source": [
    "\n",
    "input_string = input(\"Enter the Input String: \")\n",
    "small_list = \"abcdefghijklmnopqrstuvwxyz\"\n",
    "cap_list = \"ABCDEFGHIJKLMNOPQRSTUVWXYZ\"\n",
    "numbers = \"0123456789\"\n",
    "special_list = \"$#@\"\n",
    "for x in input_string.split(\",\"):\n",
    "    if len(x) <= 12 and len(x) >=6 :\n",
    "        if any(i.isupper() for i in x):\n",
    "            if any(i.islower() for i in x):\n",
    "                if any(i for i in x if i in special_list):\n",
    "                    print(f'Output: {x}')\n",
    "                           "
   ]
  }
 ],
 "metadata": {
  "kernelspec": {
   "display_name": "Python 3 (ipykernel)",
   "language": "python",
   "name": "python3"
  },
  "language_info": {
   "codemirror_mode": {
    "name": "ipython",
    "version": 3
   },
   "file_extension": ".py",
   "mimetype": "text/x-python",
   "name": "python",
   "nbconvert_exporter": "python",
   "pygments_lexer": "ipython3",
   "version": "3.10.11"
  }
 },
 "nbformat": 4,
 "nbformat_minor": 2
}
