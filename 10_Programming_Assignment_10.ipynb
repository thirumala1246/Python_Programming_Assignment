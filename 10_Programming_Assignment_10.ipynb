{
 "cells": [
  {
   "attachments": {},
   "cell_type": "markdown",
   "metadata": {},
   "source": [
    "**1.Write a Python Program to find sum of elements in a list ?**"
   ]
  },
  {
   "cell_type": "code",
   "execution_count": 8,
   "metadata": {},
   "outputs": [
    {
     "name": "stdout",
     "output_type": "stream",
     "text": [
      "Enter the No of Entries in a List: 5\n",
      "Enter a element: 1\n",
      "Enter a element: 2\n",
      "Enter a element: 3\n",
      "Enter a element: 4\n",
      "Enter a element: 5\n",
      "Sum of Elements: 15\n"
     ]
    }
   ],
   "source": [
    "\n",
    "numberOfEntries = int(input('Enter the No of Entries in a List: '))\n",
    "input_list = []\n",
    "for itr in range(numberOfEntries):\n",
    "    input_list.append(int(input('Enter a element: ')))\n",
    "print(f'Sum of Elements: {sum(input_list)}')\n"
   ]
  },
  {
   "attachments": {},
   "cell_type": "markdown",
   "metadata": {},
   "source": [
    "**2.Write a Python Program to multiply all numbers in the list ?**"
   ]
  },
  {
   "cell_type": "code",
   "execution_count": 9,
   "metadata": {},
   "outputs": [
    {
     "name": "stdout",
     "output_type": "stream",
     "text": [
      "Enter the No of Entries in a List: 5\n",
      "Enter a element: 1\n",
      "Enter a element: 2\n",
      "Enter a element: 3\n",
      "Enter a element: 4\n",
      "Enter a element: 5\n",
      "120\n"
     ]
    }
   ],
   "source": [
    "\n",
    "numberOfEntries = int(input('Enter the No of Entries in a List: '))\n",
    "input_list = []\n",
    "mul = 1\n",
    "for i in range(numberOfEntries):\n",
    "    input_list.append(int(input('Enter a element: ')))\n",
    "for x in input_list:\n",
    "    mul = mul * x\n",
    "print(mul)\n"
   ]
  },
  {
   "attachments": {},
   "cell_type": "markdown",
   "metadata": {},
   "source": [
    "**3.Write a Python Program to find smallest number in the list ?**"
   ]
  },
  {
   "cell_type": "code",
   "execution_count": 10,
   "metadata": {},
   "outputs": [
    {
     "name": "stdout",
     "output_type": "stream",
     "text": [
      "Enter the No of elements in a list: 5\n",
      "Enter a Element: 23\n",
      "Enter a Element: 37\n",
      "Enter a Element: 47\n",
      "Enter a Element: 35\n",
      "Enter a Element: 12\n",
      "The Smallest Element in [23, 37, 47, 35, 12] is 12\n"
     ]
    }
   ],
   "source": [
    "numberOfEntries = int(input('Enter the No of elements in a list: '))\n",
    "input_list = []\n",
    "for ele in range(numberOfEntries):\n",
    "    input_list.append(int(input('Enter a Element: ')))\n",
    "print(f'The Smallest Element in {input_list} is {sorted(input_list)[0]}')"
   ]
  },
  {
   "attachments": {},
   "cell_type": "markdown",
   "metadata": {},
   "source": [
    "**4.Write a Python Program to find largest number in the list ?**"
   ]
  },
  {
   "cell_type": "code",
   "execution_count": 11,
   "metadata": {},
   "outputs": [
    {
     "name": "stdout",
     "output_type": "stream",
     "text": [
      "Enter the No of elements in a list: 5\n",
      "Enter a Element: 20\n",
      "Enter a Element: 2\n",
      "Enter a Element: 10\n",
      "Enter a Element: 37\n",
      "Enter a Element: 1\n",
      "The Largest Element in [20, 2, 10, 37, 1] is 37\n"
     ]
    }
   ],
   "source": [
    "numberOfEntries = int(input('Enter the No of elements in a list: '))\n",
    "input_list = []\n",
    "for ele in range(numberOfEntries):\n",
    "    input_list.append(int(input('Enter a Element: ')))\n",
    "print(f'The Largest Element in {input_list} is {sorted(input_list, reverse=True)[0]}')"
   ]
  },
  {
   "attachments": {},
   "cell_type": "markdown",
   "metadata": {},
   "source": [
    "**5.Write a Python Program to find second largest number in the list ?**"
   ]
  },
  {
   "cell_type": "code",
   "execution_count": 12,
   "metadata": {},
   "outputs": [
    {
     "name": "stdout",
     "output_type": "stream",
     "text": [
      "Enter the No of elements in a list: 5\n",
      "Enter a Element: 23\n",
      "Enter a Element: 28\n",
      "Enter a Element: 12\n",
      "Enter a Element: 67\n",
      "Enter a Element: 20\n",
      "The Second Largest Element in [23, 28, 12, 67, 20] is 28\n"
     ]
    }
   ],
   "source": [
    "numberOfEntries = int(input('Enter the No of elements in a list: '))\n",
    "input_list = []\n",
    "for ele in range(numberOfEntries):\n",
    "    input_list.append(int(input('Enter a Element: ')))\n",
    "print(f'The Second Largest Element in {input_list} is {sorted(input_list, reverse=True)[1]}')"
   ]
  },
  {
   "attachments": {},
   "cell_type": "markdown",
   "metadata": {},
   "source": [
    "**6.Write a Python Program to find N largest elements in the list ?**"
   ]
  },
  {
   "cell_type": "code",
   "execution_count": 13,
   "metadata": {},
   "outputs": [
    {
     "name": "stdout",
     "output_type": "stream",
     "text": [
      " Enter a no of largest elements: 2\n",
      "Enter the No of elements in a list: 5\n",
      "Enter a Element: 2\n",
      "Enter a Element: 3\n",
      "Enter a Element: 9\n",
      "Enter a Element: 12\n",
      "Enter a Element: 23\n",
      "The 2 Largest Element in [2, 3, 9, 12, 23] is [23, 12]\n"
     ]
    }
   ],
   "source": [
    "largest_numbers= int(input(\" Enter a no of largest elements: \"))\n",
    "numberOfEntries = int(input('Enter the No of elements in a list: '))\n",
    "input_list = []\n",
    "for ele in range(numberOfEntries):\n",
    "    input_list.append(int(input('Enter a Element: ')))\n",
    "print(f'The {largest_numbers} Largest Element in {input_list} is {sorted(input_list, reverse=True)[0:largest_numbers]}')"
   ]
  },
  {
   "attachments": {},
   "cell_type": "markdown",
   "metadata": {},
   "source": [
    "**7.Write a Python Program to find even numbers in the list ?**"
   ]
  },
  {
   "cell_type": "code",
   "execution_count": 14,
   "metadata": {},
   "outputs": [
    {
     "name": "stdout",
     "output_type": "stream",
     "text": [
      "Enter the No of elements in a list: 5\n",
      "Enter a Element: 1\n",
      "Enter a Element: 2\n",
      "Enter a Element: 3\n",
      "Enter a Element: 4\n",
      "Enter a Element: 5\n",
      "The Even Elements in [1, 2, 3, 4, 5] are [2, 4]\n"
     ]
    }
   ],
   "source": [
    "numberOfEntries = int(input('Enter the No of elements in a list: '))\n",
    "input_list = []\n",
    "even_list = []\n",
    "for i in range(numberOfEntries):\n",
    "    input_list.append(int(input('Enter a Element: ')))\n",
    "for i in input_list:\n",
    "    if i%2 == 0:\n",
    "        even_list.append(i)\n",
    "print(f'The Even Elements in {input_list} are {even_list}')"
   ]
  },
  {
   "attachments": {},
   "cell_type": "markdown",
   "metadata": {},
   "source": [
    "**8.Write a Python Program to find odd numbers in the list ?**"
   ]
  },
  {
   "cell_type": "code",
   "execution_count": 15,
   "metadata": {},
   "outputs": [
    {
     "name": "stdout",
     "output_type": "stream",
     "text": [
      "Enter the No of elements in a list: 4\n",
      "Enter a Element: 23\n",
      "Enter a Element: 12\n",
      "Enter a Element: 10\n",
      "Enter a Element: 2\n",
      "The Even Elements in [23, 12, 10, 2] are [23]\n"
     ]
    }
   ],
   "source": [
    "numberOfEntries = int(input('Enter the No of elements in a list: '))\n",
    "input_list = []\n",
    "odd_list = []\n",
    "for i in range(numberOfEntries):\n",
    "    input_list.append(int(input('Enter a Element: ')))\n",
    "for i in input_list:\n",
    "    if i%2 != 0:\n",
    "        odd_list.append(i)\n",
    "print(f'The Even Elements in {input_list} are {odd_list}')"
   ]
  },
  {
   "attachments": {},
   "cell_type": "markdown",
   "metadata": {},
   "source": [
    "**9.Write a Python Program to remove empty list from list ?**"
   ]
  },
  {
   "cell_type": "code",
   "execution_count": 24,
   "metadata": {},
   "outputs": [
    {
     "name": "stdout",
     "output_type": "stream",
     "text": [
      "Enter all elements of the list: [1,2,4,10,[],6,7,8,12,0]\n",
      "There is an Empty list in [1, 2, 4, 10, [], 6, 7, 8, 12, 0] at Position 4\n",
      "The List after removing [] is [1, 2, 4, 10, 6, 7, 8, 12, 0]\n"
     ]
    }
   ],
   "source": [
    "input_list = eval(input('Enter all elements of the list: '))\n",
    "if [] in input_list:\n",
    "    print(f'There is an Empty list in {input_list} at Position {input_list.index([])}')\n",
    "    input_list.remove([])\n",
    "    print(f'The List after removing [] is {input_list}')\n",
    "else:\n",
    "    print(f'There is no [] List in the list {input_list}')"
   ]
  },
  {
   "attachments": {},
   "cell_type": "markdown",
   "metadata": {},
   "source": [
    "**10.Write a Python Program to Cloning or Copying a list ?**"
   ]
  },
  {
   "cell_type": "code",
   "execution_count": 25,
   "metadata": {},
   "outputs": [
    {
     "name": "stdout",
     "output_type": "stream",
     "text": [
      "Enter a list[1,4,1,12,10]\n",
      "[1, 4, 1, 12, 10] 2009692769088\n",
      "[1, 4, 1, 12, 10] 2009692299776\n"
     ]
    }
   ],
   "source": [
    "import copy\n",
    "\n",
    "input_list = eval(input('Enter a list'))\n",
    "print(input_list, id(input_list))\n",
    "cloned_list = input_list.copy()\n",
    "print(cloned_list, id(cloned_list))\n"
   ]
  },
  {
   "attachments": {},
   "cell_type": "markdown",
   "metadata": {},
   "source": [
    "**11.Write a Python Program to count occurences of an element in a list ?**"
   ]
  },
  {
   "cell_type": "code",
   "execution_count": 27,
   "metadata": {},
   "outputs": [
    {
     "name": "stdout",
     "output_type": "stream",
     "text": [
      "Enter the elements of the list: [1,3,2,4,2,5,8,8,3,1,2]\n",
      "Enter the element to find: 2\n",
      "There are 3 occurences of 2 in [1, 3, 2, 4, 2, 5, 8, 8, 3, 1, 2]\n"
     ]
    }
   ],
   "source": [
    "input_list = eval(input('Enter the elements of the list: '))\n",
    "input_number = eval(input('Enter the element to find: '))\n",
    "count = 0\n",
    "if input_number in input_list:\n",
    "    for ele in input_list:\n",
    "        if ele == input_number:\n",
    "            count = count+1\n",
    "print(f'There are {count} occurences of {input_number} in {input_list}')"
   ]
  }
 ],
 "metadata": {
  "kernelspec": {
   "display_name": "Python 3 (ipykernel)",
   "language": "python",
   "name": "python3"
  },
  "language_info": {
   "codemirror_mode": {
    "name": "ipython",
    "version": 3
   },
   "file_extension": ".py",
   "mimetype": "text/x-python",
   "name": "python",
   "nbconvert_exporter": "python",
   "pygments_lexer": "ipython3",
   "version": "3.10.9"
  }
 },
 "nbformat": 4,
 "nbformat_minor": 2
}
