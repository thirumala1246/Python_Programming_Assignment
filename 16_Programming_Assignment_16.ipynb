{
 "cells": [
  {
   "attachments": {},
   "cell_type": "markdown",
   "metadata": {},
   "source": [
    "**1.Write a function that stutters a word as if someone is struggling to read it. The first two letters are repeated twice with an ellipsis ... and space after each, and then the word is pronounced with a question mark ?** <br>\n",
    "**Examples: stutter(\"incredible\") ➞ \"in... in... incredible?\"** <br>\n",
    "**stutter(\"enthusiastic\") ➞ \"en... en... enthusiastic?\"** <br>\n",
    "**stutter(\"outstanding\") ➞ \"ou... ou... outstanding?\"** <br>\n",
    "**Hint :- Assume all input is in lower case and at least two characters long.** <br>"
   ]
  },
  {
   "cell_type": "code",
   "execution_count": 1,
   "metadata": {},
   "outputs": [
    {
     "name": "stdout",
     "output_type": "stream",
     "text": [
      "Enter the Word :incredible\n",
      "incredible ➞ in... in... incredible?\n",
      "Enter the Word :enthusiastic\n",
      "enthusiastic ➞ en... en... enthusiastic?\n",
      "Enter the Word :outstanding\n",
      "outstanding ➞ ou... ou... outstanding?\n"
     ]
    }
   ],
   "source": [
    "def stutterWord():\n",
    "    input_string = input('Enter the Word :')\n",
    "    output_string = input_string.replace(input_string[0:2],((input_string[0:2]+'... ')*2)+ input_string[0:2])  +'?'\n",
    "    print(f'{input_string} ➞ {output_string}')\n",
    "\n",
    "for i in range(3):\n",
    "    stutterWord()"
   ]
  },
  {
   "attachments": {},
   "cell_type": "markdown",
   "metadata": {},
   "source": [
    "**2..Create a function that takes an angle in radians and returns the corresponding angle in degrees rounded to one decimal place ?** <br>\n",
    "**Examples: radians_to_degrees(1) ➞ 57.3** <br>\n",
    "**radians_to_degrees(20) ➞ 1145.9** <br>\n",
    "**radians_to_degrees(50) ➞ 2864.8** <br>"
   ]
  },
  {
   "cell_type": "code",
   "execution_count": 2,
   "metadata": {},
   "outputs": [
    {
     "name": "stdout",
     "output_type": "stream",
     "text": [
      "Enter the angle in Radians: 1\n",
      "1 radian(s) ➞ 57.3 degrees\n",
      "Enter the angle in Radians: 20\n",
      "20 radian(s) ➞ 1145.9 degrees\n",
      "Enter the angle in Radians: 50\n",
      "50 radian(s) ➞ 2864.8 degrees\n"
     ]
    }
   ],
   "source": [
    "import math\n",
    "def radian_To_Degree():\n",
    "    number = int(input('Enter the angle in Radians: '))\n",
    "    output = (180/math.pi)*number\n",
    "    print(f'{number} radian(s) ➞ {output:.1f} degrees')\n",
    "\n",
    "for x in range(3):\n",
    "    radian_To_Degree()"
   ]
  },
  {
   "attachments": {},
   "cell_type": "markdown",
   "metadata": {},
   "source": [
    "**3.In this challenge, establish if a given integer num is a Curzon number. If 1 plus 2 elevated to num is exactly divisible by 1 plus 2 multiplied by num, then num is a Curzon number. Given a non-negative integer num, implement a function that returns True if num is a Curzon number, or False otherwise.** <br>\n",
    "**Examples: is_curzon(5) ➞ True # 2 ** 5 + 1 = 33 # 2 * 5 + 1 = 11 # 33 is a multiple of 11 is_curzon(10) ➞ False # 2 ** 10 + 1 = 1025 # 2 * 10 + 1 = 21 # 1025 is not a multiple of 21 is_curzon(14) ➞ True # 2 ** 14 + 1 = 16385 # 2 * 14 + 1 = 29 # 16385 is a multiple of 29** <br>"
   ]
  },
  {
   "cell_type": "code",
   "execution_count": 4,
   "metadata": {},
   "outputs": [
    {
     "name": "stdout",
     "output_type": "stream",
     "text": [
      "Enter a number: 5\n",
      "5 is a Curzon Number\n",
      "Enter a number: 10\n",
      "10 is Not a Curzon Number\n",
      "Enter a number: 14\n",
      "14 is a Curzon Number\n",
      "Enter a number: 12\n",
      "12 is Not a Curzon Number\n"
     ]
    }
   ],
   "source": [
    "def check_Curzon():\n",
    "    input1 = int(input(\"Enter a number: \"))\n",
    "    if (pow(2,input1)+1)%((2*input1)+1) == 0:\n",
    "        print(f'{input1} is a Curzon Number')\n",
    "    else:\n",
    "        print(f'{input1} is Not a Curzon Number')\n",
    "\n",
    "for x in range(4):\n",
    "    check_Curzon()"
   ]
  },
  {
   "attachments": {},
   "cell_type": "markdown",
   "metadata": {},
   "source": [
    "**4.Given the side length x find the area of a hexagon ?** <br>\n",
    "**Examples: area_of_hexagon(1) ➞ 2.6** <br>\n",
    "**area_of_hexagon(2) ➞ 10.4** <br>\n",
    "**area_of_hexagon(3) ➞ 23.4** <br>"
   ]
  },
  {
   "cell_type": "code",
   "execution_count": 5,
   "metadata": {},
   "outputs": [
    {
     "name": "stdout",
     "output_type": "stream",
     "text": [
      "Enter the side length of a Hexagon: 1\n",
      "Area for Hexagon of sidelength 1 ➞ 2.6\n",
      "Enter the side length of a Hexagon: 2\n",
      "Area for Hexagon of sidelength 2 ➞ 10.4\n",
      "Enter the side length of a Hexagon: 3\n",
      "Area for Hexagon of sidelength 3 ➞ 23.4\n"
     ]
    }
   ],
   "source": [
    "import math\n",
    "def area_Of_Hexagon():\n",
    "    input1 = int(input('Enter the side length of a Hexagon: '))\n",
    "    output1 = ((3*math.sqrt(3))/2)*(pow(input1,2))\n",
    "    print(f'Area for Hexagon of sidelength {input1} ➞ {output1:.1f}')\n",
    "    \n",
    "for x in range(3):\n",
    "    area_Of_Hexagon()"
   ]
  },
  {
   "attachments": {},
   "cell_type": "markdown",
   "metadata": {},
   "source": [
    "**5.Create a function that returns a base-2 (binary) representation of a base-10 (decimal) string number. To convert is simple:** <br>\n",
    "**((2) means base-2 and (10) means base-10)** <br>\n",
    "**010101001(2) = 1 + 8 + 32 + 128.** <br>\n",
    "**Going from right to left, the value of the most right bit is 1, now from that every bit to the left will be x2 the value, value of an 8 bit binary numbers are (256, 128, 64, 32, 16, 8, 4, 2, 1).** <br>\n",
    "**Examples:** <br>\n",
    "**binary(1) ➞ \"1\" # 1* 1 = 1 binary(5) ➞ \"101\" # 1 1 + 1 4 = 5 binary(10) ➞ \"1010\" # 1 2 + 1 8 = 10** <br>"
   ]
  },
  {
   "cell_type": "code",
   "execution_count": 6,
   "metadata": {},
   "outputs": [
    {
     "name": "stdout",
     "output_type": "stream",
     "text": [
      "Enter a Number: 1\n",
      "Binary of 1 ➞ 1\n",
      "Enter a Number: 5\n",
      "Binary of 5 ➞ 101\n",
      "Enter a Number: 10\n",
      "Binary of 10 ➞ 1010\n"
     ]
    }
   ],
   "source": [
    "def get_binary():\n",
    "    input1 = int(input(\"Enter a Number: \"))\n",
    "    output1 = bin(input1).replace('0b','') \n",
    "    print(f'Binary of {input1} ➞ {output1}')\n",
    "\n",
    "for x in range(3):\n",
    "    get_binary()"
   ]
  }
 ],
 "metadata": {
  "kernelspec": {
   "display_name": "Python 3 (ipykernel)",
   "language": "python",
   "name": "python3"
  },
  "language_info": {
   "codemirror_mode": {
    "name": "ipython",
    "version": 3
   },
   "file_extension": ".py",
   "mimetype": "text/x-python",
   "name": "python",
   "nbconvert_exporter": "python",
   "pygments_lexer": "ipython3",
   "version": "3.10.11"
  }
 },
 "nbformat": 4,
 "nbformat_minor": 2
}
