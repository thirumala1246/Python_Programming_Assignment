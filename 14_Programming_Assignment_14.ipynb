{
 "cells": [
  {
   "attachments": {},
   "cell_type": "markdown",
   "metadata": {},
   "source": [
    "**1.Define a class with a generator which can iterate the numbers, which are divisible by 7, between a given range 0 and n. ?**"
   ]
  },
  {
   "cell_type": "code",
   "execution_count": 1,
   "metadata": {},
   "outputs": [
    {
     "name": "stdout",
     "output_type": "stream",
     "text": [
      "0 7 14 21 28 35 42 49 56 63 70 77 84 91 98 105 112 119 126 133 140 147 154 161 168 175 182 189 196 203 210 217 224 231 238 245 252 259 266 273 280 287 294 301 308 315 322 329 336 343 350 "
     ]
    }
   ],
   "source": [
    "class div_generator:\n",
    "    def __init__(self,num):\n",
    "        self.num = num\n",
    "    def get_numbers(self):\n",
    "        for i in range(0,self.num+1):\n",
    "            if i%7 == 0:\n",
    "                yield i\n",
    "                \n",
    "output = div_generator(350)\n",
    "for x in output.get_numbers():\n",
    "    print(x,end=' ')"
   ]
  },
  {
   "attachments": {},
   "cell_type": "markdown",
   "metadata": {},
   "source": [
    "**2.Write a program to compute the frequency of the words from the input. The output should output after sorting the key alphanumerically.** <br>\n",
    "**Suppose the following input is supplied to the program:** <br>\n",
    "**New to Python or choosing between Python 2 and Python 3? Read Python 2 or Python 3.** <br>\n",
    "**Then, the output should be:** <br>\n",
    "**2:2 3.:1 3?:1 New:1 Python:5 Read:1 and:1 between:1 choosing:1 or:2 to:1** <br>"
   ]
  },
  {
   "cell_type": "code",
   "execution_count": 3,
   "metadata": {},
   "outputs": [
    {
     "name": "stdout",
     "output_type": "stream",
     "text": [
      "Enter the Input String: New to Python or choosing between Python 2 and Python 3? Read Python 2 or Python 3.\n",
      "output: 2:2 output: 3.:1 output: 3?:1 output: New:1 output: Python:5 output: Read:1 output: and:1 output: between:1 output: choosing:1 output: or:2 output: to:1 "
     ]
    }
   ],
   "source": [
    "\n",
    "input_string = input(\"Enter the Input String: \")\n",
    "frequency = {}\n",
    "for i in input_string.split(\" \"):\n",
    "    if(frequency.get(i) == None):\n",
    "        frequency[i] = 1\n",
    "    else:\n",
    "        frequency[i] += 1 \n",
    "for i in sorted(frequency):\n",
    "    print(f'output: {i}:{frequency[i]}',end=\" \")\n"
   ]
  },
  {
   "attachments": {},
   "cell_type": "markdown",
   "metadata": {},
   "source": [
    "**3.Define a class Person and its two child classes: Male and Female. All classes have a method \"getGender\" which can print \"Male\" for Male class and \"Female\" for Female class. ?** <br>"
   ]
  },
  {
   "cell_type": "code",
   "execution_count": 3,
   "metadata": {},
   "outputs": [
    {
     "name": "stdout",
     "output_type": "stream",
     "text": [
      "Male\n",
      "Female\n"
     ]
    }
   ],
   "source": [
    "class Person():\n",
    "    def getGender():\n",
    "        pass\n",
    "    \n",
    "class Male(Person):\n",
    "    def getGender():\n",
    "        print(\"Male\")\n",
    "        \n",
    "class Female(Person):\n",
    "    def getGender():\n",
    "        print(\"Female\")\n",
    "\n",
    "Male.getGender()\n",
    "Female.getGender()"
   ]
  },
  {
   "attachments": {},
   "cell_type": "markdown",
   "metadata": {},
   "source": [
    "**4.Please write a program to generate all sentences where subject is in `[\"I\", \"You\"]` and verb is in `[\"Play\", \"Love\"]` and the object is in `[\"Hockey\",\"Football\"]` ?** <br>"
   ]
  },
  {
   "cell_type": "code",
   "execution_count": 2,
   "metadata": {},
   "outputs": [
    {
     "name": "stdout",
     "output_type": "stream",
     "text": [
      "I Play Hockey\n",
      "I Play Football\n",
      "I Love Hockey\n",
      "I Love Football\n",
      "You Play Hockey\n",
      "You Play Football\n",
      "You Love Hockey\n",
      "You Love Football\n"
     ]
    }
   ],
   "source": [
    "\n",
    "subject = ['I','You']\n",
    "verb = ['Play','Love']\n",
    "object = ['Hockey','Football']\n",
    "for s in subject:\n",
    "    for v in verb:\n",
    "        for o in object:\n",
    "            print(f'{s} {v} {o}')\n"
   ]
  },
  {
   "attachments": {},
   "cell_type": "markdown",
   "metadata": {},
   "source": [
    "**5.Please write a program to compress and decompress the string \"hello world!hello world!hello world!hello world!\" ?** <br>"
   ]
  },
  {
   "cell_type": "code",
   "execution_count": 1,
   "metadata": {},
   "outputs": [
    {
     "name": "stdout",
     "output_type": "stream",
     "text": [
      "Compress:hel2o world!hel2o world!hel2o world!hel2o world!\n",
      "Decompress: hello world!hello world!hello world!hello world!\n"
     ]
    }
   ],
   "source": [
    "input_string= \"hello world!hello world!hello world!hello world!\"\n",
    "output = input_string[0]\n",
    "count = 1\n",
    "for i in range(len(input_string)-1):\n",
    "    if input_string[i] == input_string[i+1]:\n",
    "        count +=1\n",
    "    else:\n",
    "        if count > 1:\n",
    "            output += str(count)\n",
    "        output += input_string[i+1]\n",
    "        count = 1\n",
    "if count > 1:\n",
    "    output += str(count)            \n",
    "print(f'Compress:{output}')\n",
    "\n",
    "\n",
    "def decompress(input_string):\n",
    "    output = ''\n",
    "    for i in range(len(input_string)):\n",
    "        if input_string[i].isdigit():\n",
    "            output += output[-1]*(int(input_string[i])-1)\n",
    "        else:\n",
    "            output += input_string[i]\n",
    "    print(f'Decompress: {output}')\n",
    "    \n",
    "decompress(\"hel2o world!hel2o world!hel2o world!hel2o world!\")\n"
   ]
  }
 ],
 "metadata": {
  "kernelspec": {
   "display_name": "Python 3 (ipykernel)",
   "language": "python",
   "name": "python3"
  },
  "language_info": {
   "codemirror_mode": {
    "name": "ipython",
    "version": 3
   },
   "file_extension": ".py",
   "mimetype": "text/x-python",
   "name": "python",
   "nbconvert_exporter": "python",
   "pygments_lexer": "ipython3",
   "version": "3.10.11"
  }
 },
 "nbformat": 4,
 "nbformat_minor": 2
}
