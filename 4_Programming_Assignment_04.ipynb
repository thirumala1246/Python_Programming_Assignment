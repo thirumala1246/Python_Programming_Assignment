{
  "nbformat": 4,
  "nbformat_minor": 0,
  "metadata": {
    "colab": {
      "provenance": []
    },
    "kernelspec": {
      "name": "python3",
      "display_name": "Python 3"
    },
    "language_info": {
      "name": "python"
    }
  },
  "cells": [
    {
      "cell_type": "markdown",
      "source": [
        "**1.Write a Python Program to find the factorial of a number ?** <br>\n",
        "A."
      ],
      "metadata": {
        "id": "kas11A_rW3RS"
      }
    },
    {
      "cell_type": "code",
      "execution_count": 2,
      "metadata": {
        "colab": {
          "base_uri": "https://localhost:8080/"
        },
        "id": "mMczEC_zW2Tn",
        "outputId": "f9dcb0da-fd89-4d62-8137-85333e414fd2"
      },
      "outputs": [
        {
          "output_type": "stream",
          "name": "stdout",
          "text": [
            "Enter a number: 5\n",
            "The Factorial of 5 is 120\n"
          ]
        }
      ],
      "source": [
        "def factorial(num):\n",
        "    if (num < 1):\n",
        "        return 1\n",
        "    else:\n",
        "        return num*factorial(num-1)\n",
        "num = int(input('Enter a number: '))\n",
        "value = factorial(num)\n",
        "print(f'The Factorial of {num} is {value}')"
      ]
    },
    {
      "cell_type": "markdown",
      "source": [
        "**2.Write a Python Program to display the multiplication table ?** <br>\n",
        "A."
      ],
      "metadata": {
        "id": "GVVmTkAtYzsB"
      }
    },
    {
      "cell_type": "code",
      "source": [
        "num = int(input('Enter a number: '))\n",
        "values = int(input('Enter no of entries: '))\n",
        "for x in range(1,values+1):\n",
        "      print(f'{num} X {x} = {num*x}')\n"
      ],
      "metadata": {
        "colab": {
          "base_uri": "https://localhost:8080/"
        },
        "id": "zvl5BtSZY8RI",
        "outputId": "0106ed15-d23c-4098-8541-f12ced7845fe"
      },
      "execution_count": 5,
      "outputs": [
        {
          "output_type": "stream",
          "name": "stdout",
          "text": [
            "Enter a number: 3\n",
            "Enter no of entries: 12\n",
            "3 X 1 = 3\n",
            "3 X 2 = 6\n",
            "3 X 3 = 9\n",
            "3 X 4 = 12\n",
            "3 X 5 = 15\n",
            "3 X 6 = 18\n",
            "3 X 7 = 21\n",
            "3 X 8 = 24\n",
            "3 X 9 = 27\n",
            "3 X 10 = 30\n",
            "3 X 11 = 33\n",
            "3 X 12 = 36\n"
          ]
        }
      ]
    },
    {
      "cell_type": "markdown",
      "source": [
        "**3.Write a Python program to check Leap Year ?** <br>\n",
        "A."
      ],
      "metadata": {
        "id": "eLhT55HEZ0Gg"
      }
    },
    {
      "cell_type": "code",
      "source": [
        "s_count = int(input('Enter the no of fibonacci sequences you want? '))\n",
        "initial_list = [0,1]\n",
        "if s_count < 0:\n",
        "    print('Fibonacci Numbers are not available for Negative Numbers')\n",
        "elif s_count <= 2 and s_count >= 0:\n",
        "    print(initial_list)\n",
        "else:\n",
        "    for ins in range(s_count):\n",
        "        if ins >= 2:\n",
        "            initial_list.append(initial_list[ins-1]+initial_list[ins-2])\n",
        "    print(f'The First {s_count} fibonacci series are: ',initial_list)"
      ],
      "metadata": {
        "colab": {
          "base_uri": "https://localhost:8080/"
        },
        "id": "gYOTut0NZ9z6",
        "outputId": "a4493981-63b5-4999-ec09-a8adeec2675f"
      },
      "execution_count": 6,
      "outputs": [
        {
          "output_type": "stream",
          "name": "stdout",
          "text": [
            "Enter the no of fibonacci sequences you want? 23\n",
            "The First 23 fibonacci series are:  [0, 1, 1, 2, 3, 5, 8, 13, 21, 34, 55, 89, 144, 233, 377, 610, 987, 1597, 2584, 4181, 6765, 10946, 17711]\n"
          ]
        }
      ]
    },
    {
      "cell_type": "markdown",
      "source": [
        "**4.Write a Python Program to check Armstrong number ?** <br>\n",
        "A."
      ],
      "metadata": {
        "id": "0OlIe9GuaXo4"
      }
    },
    {
      "cell_type": "code",
      "source": [
        "num = int(input(\"Enter a number: \"))\n",
        "sum = 0\n",
        "temp = num\n",
        "while temp > 0:\n",
        "   digit = temp % 10\n",
        "   sum += digit ** 3\n",
        "   temp //= 10\n",
        "if num == sum:\n",
        "   print(num,\"is an Armstrong number\")\n",
        "else:\n",
        "   print(num,\"is not an Armstrong number\")"
      ],
      "metadata": {
        "colab": {
          "base_uri": "https://localhost:8080/"
        },
        "id": "w9zOof1tkwat",
        "outputId": "79ba75c8-8e83-489b-a7dd-9be548f4d84a"
      },
      "execution_count": 9,
      "outputs": [
        {
          "output_type": "stream",
          "name": "stdout",
          "text": [
            "Enter a number: 153\n",
            "153 is an Armstrong number\n"
          ]
        }
      ]
    },
    {
      "cell_type": "markdown",
      "source": [
        "**5.Write a Python Program to Find Armstrong number in an interval ?** <br>\n",
        "A."
      ],
      "metadata": {
        "id": "BCqdySKUmjjc"
      }
    },
    {
      "cell_type": "code",
      "source": [
        "def checkArmstrongNumber(in_num, storage):\n",
        "    sum = 0\n",
        "    for char in range(len(in_num)):\n",
        "        sum = sum + pow(int(in_num[char]),3)\n",
        "    if sum == int(in_num):\n",
        "        storage.append(int(in_num))\n",
        "\n",
        "start_interval = int(input('Enter the Start of the Interval: '))\n",
        "end_interval = int(input('Enter the End of the Interval: '))\n",
        "list_of_armstrong = []\n",
        "\n",
        "if start_interval > end_interval:\n",
        "    print(\"Start Interval Cannot be Greater than End Interval\")\n",
        "else:\n",
        "    for number in range(start_interval,end_interval+1):\n",
        "        checkArmstrongNumber(str(number),list_of_armstrong)\n",
        "    print(f'The Armstrong numbers between {start_interval} and {end_interval} are {list_of_armstrong}')"
      ],
      "metadata": {
        "colab": {
          "base_uri": "https://localhost:8080/"
        },
        "id": "zx6PmpT_mpe1",
        "outputId": "26e685e8-d6e3-4e20-f592-1e59ba9cf3e9"
      },
      "execution_count": 10,
      "outputs": [
        {
          "output_type": "stream",
          "name": "stdout",
          "text": [
            "Enter the Start of the Interval: 1\n",
            "Enter the End of the Interval: 800\n",
            "The Armstrong numbers between 1 and 800 are [1, 153, 370, 371, 407]\n"
          ]
        }
      ]
    },
    {
      "cell_type": "markdown",
      "source": [
        "**6.Write a Python Program to sum of natural numbers ?** <br>\n",
        "A."
      ],
      "metadata": {
        "id": "Qz-YkP2rnebR"
      }
    },
    {
      "cell_type": "code",
      "source": [
        "def sumOfNaturalNumbers(num):\n",
        "    sum = num*((num+1)/2)\n",
        "    print(f'Sum of {num} natural numbers is {sum}')\n",
        "    \n",
        "num = int(input('Enter a number: '))\n",
        "sumOfNaturalNumbers(num)"
      ],
      "metadata": {
        "colab": {
          "base_uri": "https://localhost:8080/"
        },
        "id": "mhzkYMr0nsll",
        "outputId": "077a9f19-b508-4e54-cbc8-c727ffa4151a"
      },
      "execution_count": 11,
      "outputs": [
        {
          "output_type": "stream",
          "name": "stdout",
          "text": [
            "Enter a number: 80\n",
            "Sum of 80 natural numbers is 3240.0\n"
          ]
        }
      ]
    }
  ]
}